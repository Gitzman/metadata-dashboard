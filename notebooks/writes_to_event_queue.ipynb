{
 "cells": [
  {
   "cell_type": "code",
   "execution_count": null,
   "metadata": {
    "collapsed": true
   },
   "outputs": [],
   "source": [
    "from datetime import datetime\n",
    "from elasticsearch import Elasticsearch\n",
    "from iron_mq import IronMQ\n",
    "\n",
    "#connection to es cluster\n",
    "es = Elasticsearch(['http://58d3ea40c46e8b15000.qbox.io:80'])\n",
    "\n",
    "#initiate ironmq connection\n",
    "ironmq = IronMQ(host=\"mq-aws-us-east-1.iron.io\",\n",
    "            project_id=\"557330ae33f0350006000040\",\n",
    "            token=\"JZsM3ArjIhEfiKlG52Bt99b7Hh4\",\n",
    "            protocol=\"https\", port=443,\n",
    "            api_version=1,\n",
    "            config_file=None)\n",
    "\n",
    "#specify the queue where seqment is writing \n",
    "eventqueue = ironmq.queue(\"event-stream\")\n",
    "\n",
    "message = {\n",
    "    \"body\" : \"Test Message\"\n",
    "}\n",
    "eventqueue.post(message)"
   ]
  }
 ],
 "metadata": {
  "kernelspec": {
   "display_name": "Python 2",
   "language": "python",
   "name": "python2"
  },
  "language_info": {
   "codemirror_mode": {
    "name": "ipython",
    "version": 2
   },
   "file_extension": ".py",
   "mimetype": "text/x-python",
   "name": "python",
   "nbconvert_exporter": "python",
   "pygments_lexer": "ipython2",
   "version": "2.7.9"
  }
 },
 "nbformat": 4,
 "nbformat_minor": 0
}
